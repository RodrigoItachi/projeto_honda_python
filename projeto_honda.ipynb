{
  "nbformat": 4,
  "nbformat_minor": 0,
  "metadata": {
    "colab": {
      "name": "projeto_honda.ipynb",
      "provenance": [],
      "authorship_tag": "ABX9TyML3sgMkTR6ODGuVXl0DH3k",
      "include_colab_link": true
    },
    "kernelspec": {
      "name": "python3",
      "display_name": "Python 3"
    },
    "language_info": {
      "name": "python"
    }
  },
  "cells": [
    {
      "cell_type": "markdown",
      "metadata": {
        "id": "view-in-github",
        "colab_type": "text"
      },
      "source": [
        "<a href=\"https://colab.research.google.com/github/RodrigoItachi/projeto_honda_python/blob/master/projeto_honda.ipynb\" target=\"_parent\"><img src=\"https://colab.research.google.com/assets/colab-badge.svg\" alt=\"Open In Colab\"/></a>"
      ]
    },
    {
      "cell_type": "markdown",
      "source": [
        "\n",
        "\n",
        "1.   CRUD Administrador\n",
        "\n",
        "      \n",
        "      variáveis:\n",
        "      idAdm, nome;\n",
        "\n",
        "      métodos(funções):\n",
        "      inserirNovaMoto(),\n",
        "      removerMoto(),\n",
        "      gerarGraficoVendas(),\n",
        "      ...\n",
        "\n",
        "      ##########################################################\n",
        "        CRUD Motos\n",
        "          variáveis: \n",
        "            idMoto, modelos, cor, preco, qtd;\n",
        "\n",
        "          métodos(funções):\n",
        "            gerarGraficoMotos(),\n",
        "          \n",
        "      ##########################################################\n",
        "        CRUD Cliente: \n",
        "            variáveis:\n",
        "              idCliente, nome, cpf\n",
        "            \n",
        "            métodos:\n",
        "              \n",
        "\n"
      ],
      "metadata": {
        "id": "ktW2JKn5aSYd"
      }
    }
  ]
}