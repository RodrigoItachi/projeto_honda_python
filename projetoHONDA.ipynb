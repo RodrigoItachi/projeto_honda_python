{
  "nbformat": 4,
  "nbformat_minor": 0,
  "metadata": {
    "colab": {
      "name": "projetoHONDA.ipynb",
      "provenance": [],
      "authorship_tag": "ABX9TyOdZzoW6B+XInT1YSf5BDYO",
      "include_colab_link": true
    },
    "kernelspec": {
      "name": "python3",
      "display_name": "Python 3"
    },
    "language_info": {
      "name": "python"
    }
  },
  "cells": [
    {
      "cell_type": "markdown",
      "metadata": {
        "id": "view-in-github",
        "colab_type": "text"
      },
      "source": [
        "<a href=\"https://colab.research.google.com/github/RodrigoItachi/projeto_honda_python/blob/master/projetoHONDA.ipynb\" target=\"_parent\"><img src=\"https://colab.research.google.com/assets/colab-badge.svg\" alt=\"Open In Colab\"/></a>"
      ]
    },
    {
      "cell_type": "code",
      "execution_count": 2,
      "metadata": {
        "colab": {
          "base_uri": "https://localhost:8080/"
        },
        "id": "j9jy_DM2EgAa",
        "outputId": "ec8c2dd6-9d49-4a77-e26e-1956b73fc30d"
      },
      "outputs": [
        {
          "output_type": "stream",
          "name": "stdout",
          "text": [
            "1 - para ADM:\n",
            "2 - para CLIENTE:\n",
            "2\n",
            "Olá, aqui você pode adicionar uma nova conta!\n",
            "Digite o nome de usuário: ROD\n",
            "Cadastro realizado com sucesso!\n",
            "\n",
            "Efetue o seu login\n",
            "Digite o seu nome de usuario: ROD\n",
            "Bem vindo, ROD!\n",
            "Honda CG 160: R$ 14,620.0\n",
            "Honda Biz: R$ 10,170.0\n",
            "Honda NXR 160 Bros: R$ 16,270.0\n",
            "Honda Pop 110i: R$ 8,330.0\n",
            "Honda CB 250F Twister: R$ 18,420.0\n",
            "HONDA XRE 190: R$ 18,100.0\n",
            "HONDA CBR 1000RR-R FIREBLADE: R$ 149,911.0\n",
            "honda CG 160 Cargo: R$ 13,650.0\n"
          ]
        }
      ],
      "source": [
        "from re import M\n",
        "import matplotlib.pyplot as plt\n",
        "modelo_ano = {}\n",
        "motos = []\n",
        "ADM = ['ADM080902','ADM010897','ADM030592']\n",
        "clientes = ['CLI12','CLI23','CLI54']\n",
        "vendas = [11.861,10.321,8.342,11.322,9.214,8.462,5.353,7.314,8.474,9.317,6.326,7.654]\n",
        "meses = ['jan', 'fev', 'mar', 'abr', ' maio', 'jun', 'jul','ago','set','out','nov','dez']\n",
        "produtos = {'Honda CG 160': 14620, 'Honda Biz': 10170, 'Honda NXR 160 Bros': 16270, 'Honda Pop 110i': 8330, 'Honda CB 250F Twister': 18420, 'HONDA XRE 190': 18100, 'HONDA CBR 1000RR-R FIREBLADE': 149911, 'honda CG 160 Cargo': 13650}\n",
        "produtos_vendas = {'Honda CG 160':11.861, 'Honda Biz':10.321, 'Honda NXR 160 Bros':11.322, 'Honda Pop 110i':8.342, 'Honda CB 250F Twister':9.214, 'HONDA XRE 190':9.317, 'HONDA CBR 1000RR-R FIREBLADE':6.326, 'honda CG 160 Cargo':8.474}\n",
        "\n",
        "\n",
        "def menu(m:int):\n",
        "  if m == 1:\n",
        "    administrador()\n",
        "  elif m == 2:\n",
        "    cliente()\n",
        "\n",
        "\n",
        "def administrador():\n",
        "  op = int(input(\"Digite 1 - Para saber o relatório Anual das vendas \\nDigite 2 - Para cadastrar um novo produto\\n\"))\n",
        "  opc.get(op)()\n",
        "\n",
        "def cliente():\n",
        "  \n",
        "  arq = open('registrados.txt', 'a')\n",
        "  print('Olá, aqui você pode adicionar uma nova conta!')\n",
        "  nome_usuario = input('Digite o nome de usuário: ')\n",
        "\n",
        "  arq.write('{}\\n'.format(nome_usuario))\n",
        "  '''\n",
        "  Adição da constante \\n new line\n",
        "  Uma vez que write não o adiciona automaticamente\n",
        "  '''\n",
        "\n",
        "  print('Cadastro realizado com sucesso!\\n')\n",
        "  arq.close() #O arquivo é fechado do modo de adição para ser aberto\n",
        "              #posteriormente no modo de leitura\n",
        "\n",
        "  arq = open('registrados.txt') #abrindo no modo de leitura\n",
        "  print('Efetue o seu login')\n",
        "  nome_login = input('Digite o seu nome de usuario: ')\n",
        "\n",
        "  registrados = arq.readlines()\n",
        "  if nome_login + '\\n' in registrados:\n",
        "      print('Bem vindo, {}!'.format(nome_login))\n",
        "  else:\n",
        "      print('Você deve ter digitado seu nome de usuario errado, por favor verifique.')\n",
        "  arq.close()\n",
        "  for k,v in produtos.items():\n",
        "        print(f\"{k}: R$ {v:,.1f}\")\n",
        "\n",
        "opc1 = {1:administrador,2:cliente}\n",
        "  \n",
        "def OpcRela():\n",
        "  \n",
        "  print(\"===============RELATÓRIO ANUAL DE VENDAS=================\")\n",
        "  print(f\"A moto mais vendida do ano foi: {max(produtos_vendas)} com um total de {vendas[0]} vendas!\")\n",
        "  plt.xlabel('meses')\n",
        "  plt.ylabel('vendas')\n",
        "  plt.plot(meses,vendas, color = 'red')\n",
        "  plt.scatter(meses,vendas, color = 'black')\n",
        "  plt.show(meses,vendas)\n",
        "\n",
        "def OpccadatroMoto():\n",
        "  loop = True \n",
        "  v = 'S'\n",
        "  while loop == True:\n",
        "    v = str(input(\"Deseja inserir um novo modelo? [s/n]\")).upper()\n",
        "    if(v=='N'):\n",
        "      loop = False\n",
        "    else:\n",
        "      modelo_ano[int(input('insira ano do modelo da moto: '))] = str(input(\"insira modelo da moto \")).rstrip( )\n",
        "      motos.append(motos)\n",
        "  print(\"Modelos Novos Adicionados (ano/modelo) =\", modelo_ano)\n",
        "\n",
        "opc = {1:OpcRela, 2:OpccadatroMoto}\n",
        "\n",
        "def login():\n",
        "  loop = True\n",
        "  while(loop):\n",
        "    \n",
        "    login = str(input(\"Digite seu login:\"))\n",
        "    if login in ADM:\n",
        "      op = int(input(\"Digite 1 - Para saber o relatório Anual das vendas \\nDigite 2 - Para cadastrar um novo produto\\n\"))\n",
        "      opc.get(op)()\n",
        "\n",
        "      loop = False\n",
        "    elif(login in clientes):\n",
        "      for k,v in produtos.items():\n",
        "        print(f\"{k}: R$ {v:,.1f}\")\n",
        "      loop = False\n",
        "    else:\n",
        "      print(\"Infelizmente não achamos o seu cadastro, insira um ID válido!\")\n",
        "\n",
        "m = int(input(\"1 - para ADM:\\n2 - para CLIENTE:\\n\"))    \n",
        "menu(m)"
      ]
    }
  ]
}